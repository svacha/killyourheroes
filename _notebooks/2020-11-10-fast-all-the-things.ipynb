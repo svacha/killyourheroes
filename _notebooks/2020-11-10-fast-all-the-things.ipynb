{
 "cells": [
  {
   "cell_type": "markdown",
   "metadata": {},
   "source": [
    "# Fast all the things\n",
    "> \"How some new (to me) tools like `nbdev`, `fastpages`, and `fastdoc` might help me use notebooks for all the things.\"\n",
    "\n",
    "- toc: false\n",
    "- branch: master\n",
    "- badges: false\n",
    "- comments: true\n",
    "- categories: [til, fastpages, jupyter]\n",
    "- hide: false\n",
    "- search_exclude: false"
   ]
  },
  {
   "cell_type": "markdown",
   "metadata": {},
   "source": [
    "## tldr\n",
    "\n",
    "TIL about some tools in the notebook ecosystem and maybe you'll be interested too.\n",
    "\n",
    "## What led me here\n",
    "\n",
    "With no prior context, I see several tweets in my feed about something involving the Code of Conduct at JupyterCon and some decision from NumFOCUS to apologize. An old colleague of mine commenting \"Finally\":\n",
    "\n",
    "<blockquote class=\"twitter-tweet\"><p lang=\"en\" dir=\"ltr\">Finally! <a href=\"https://t.co/iKSzRZlPAN\">https://t.co/iKSzRZlPAN</a></p>&mdash; 🍂 🦃🥧 Jiahao Chen 陳家豪 @ 🏡🗽 (@acidflask) <a href=\"https://twitter.com/acidflask/status/1325782312919969792?ref_src=twsrc%5Etfw\">November 9, 2020</a></blockquote> <script async src=\"https://platform.twitter.com/widgets.js\" charset=\"utf-8\"></script>\n",
    "<blockquote class=\"twitter-tweet\"><p lang=\"en\" dir=\"ltr\">Update from NumFOCUS:<br>&quot;The board of directors voted that the talk of Jeremy Howard adhered to the JupyterCon Code of Conduct. Jeremy’s talk offers the kind of exchange of ideas that makes an intellectual community vibrant and healthy.&quot;<a href=\"https://t.co/He3pqgVohc\">https://t.co/He3pqgVohc</a></p>&mdash; Jeremy Howard (@jeremyphoward) <a href=\"https://twitter.com/jeremyphoward/status/1325606466556895232?ref_src=twsrc%5Etfw\">November 9, 2020</a></blockquote> <script async src=\"https://platform.twitter.com/widgets.js\" charset=\"utf-8\"></script>\n",
    "\n",
    "I'll admit that I was in the dark on who that is but that was enough spark my interest and take a further look."
   ]
  },
  {
   "cell_type": "markdown",
   "metadata": {},
   "source": [
    "## What's the background\n",
    "\n",
    "[Jeremy Howard](https://www.linkedin.com/in/howardjeremy/), apparently widely known and respected data scientist and founder of Fast.ai, gave a JupyterCon 2020 keynote talk \"[I like notebooks](https://youtu.be/9Q6sLbz37gk)\" in response to a talk a couple years back from Joel Grus \"[I don't like notebooks](https://youtu.be/7jiPeIFXb6U)\". \n",
    "\n",
    "I'd seen the video for the prior talk, defintely identified with many of the pain points, and got some good chuckles out of Joel's contrarian and joke-packed point of view. I also read the preview chapters for his new book \"Ten Essays on Fizz Buzz\", and I love his knack for finding deep perspectives from a superficial starting place.\n",
    "\n",
    "As a result of the code-of-conduct controversy, I watched Jeremy's talk and took down notes to read up and learn more. He gives Joel a lot of credit, and then disagrees with him, while pointing to a bunch of tools that help Jeremy solve the problems Joel listed. It was great stuff really, solid respect with on-topic discussion of details, and ultimately that's the message that came back from NumFOCUS after reviewing the complaints."
   ]
  },
  {
   "cell_type": "markdown",
   "metadata": {},
   "source": [
    "## What did I learn about\n",
    "\n",
    "The talk itself is worth watching, and depending on your prior exposure your eyes may be drawn to different tools, but mine focused in on three things: `nbdev`, `fastpages`, and `fastdoc`.\n",
    "\n",
    "### nbdev\n",
    "\n",
    "The majority of the frequent complaints against notebooks were addressed by `nbdev`. This is a tool for developing Python packages, creating documentation, and writing tests, all from within reproducible jupyter notebook environments. \n",
    "\n",
    "I'm looking forward to trying this out. With quite a few projects, I personally launch a notebook as the first place to explore and start developing, and then, when it feels like it reaches a transition point over to slightly more \"robust engineering\" project, code gets extracted into flat `.py` files or packages, and in the meantime I open another notebook as a scratchpad. That transition point does create a natural opportunity to pause, think, and refactor, but I'm excited to try out a workflow where the intended endpoint is a well-engineered notebook environment. If the `nbdev` library can help smooth out the experience, projects can move from launch to something more reliable very quickly.\n",
    "\n",
    "I don't know the details yet about how the interface for this library feels. One specific example pulled from the talk: if you create a Python class in a jupyter notebook, you would typically need to have all the methods defined in a single cell to get executed all together. The `nbdev` tooling exposes a `@patch` decorator that lets you attach methods to a class in whatever place in your code and documentation makes the most sense. \n",
    "\n",
    "### fastpages\n",
    "\n",
    "The `fastpages` tool appears to be a straightforward extension to the Jekyll blogging system to provide support for jupyter notebooks, including friendly features for including post metadata and control of showing or hiding or collapsing cell content.\n",
    "\n",
    "There are other tools in the notebook ecosystem for generating content to be delivered through a static site generator. I have created both markdown and html exports of notebook contents using `nbconvert` directly, or manually selecting \"Download as\" from the jupyter menu. That works for one-off posts but it's not a great workflow for frequent use or maintenance.\n",
    "\n",
    "### fastdoc\n",
    "\n",
    "The `fastdoc` tool can generate publication-quality digital and physical books from source content in jupyter notebooks via asciidoc. [Jupyterbook](https://jupyterbook.org/intro.html) is the most similar tool I've heard of in this area. I'm curious to look deeper and figure out what benefits and differences there are, but more options are welcome for writing and editing source materials in jupyter with toolchains to target multiple output formats. "
   ]
  },
  {
   "cell_type": "markdown",
   "metadata": {},
   "source": [
    "## Putting this in context\n",
    "\n",
    "There's been a wide spectrum of efforts toward making notebooks more capable for doing \"real work\". The focus of the batch of tooling surfaced in Jeremy Howard's video bridges the gap between some of the software development and documentation workflows and the notebook environment. \n",
    "\n",
    "For data scientists, data engineers, and analysts working in large corporate environments, there's another category of tooling related to executing jobs on shared compute clusters, handling the DAG and scheduling needs. Netflix, amongst many other folks, built tooling (described initially in [this blog post](https://netflixtechblog.com/notebook-innovation-591ee3221233)) to treat notebooks as both the primary code object and the immutable artifacts of any job execution.\n",
    "\n",
    "I'm interested to see how something like `nbdev` will help improve the experience between these categories."
   ]
  },
  {
   "cell_type": "markdown",
   "metadata": {},
   "source": [
    "\n",
    "## See more\n",
    "\n",
    "Just give me the links:\n",
    "\n",
    "- Jeremy Howard's [Jupytercon 2020 keynote video](https://youtu.be/9Q6sLbz37gk)\n",
    "- Joel Grus's \"[I don't like notebooks](https://youtu.be/7jiPeIFXb6U) talk\n",
    "- [nbdev](https://github.com/fastai/nbdev)\n",
    "- [fastdoc](https://github.com/fastai/fastdoc)\n",
    "- [fastpages](https://github.com/fastai/fastpages)\n"
   ]
  }
 ],
 "metadata": {
  "hide_input": false,
  "kernelspec": {
   "display_name": "Python 3",
   "language": "python",
   "name": "python3"
  },
  "language_info": {
   "codemirror_mode": {
    "name": "ipython",
    "version": 3
   },
   "file_extension": ".py",
   "mimetype": "text/x-python",
   "name": "python",
   "nbconvert_exporter": "python",
   "pygments_lexer": "ipython3",
   "version": "3.7.2"
  },
  "toc": {
   "base_numbering": 1,
   "nav_menu": {},
   "number_sections": false,
   "sideBar": true,
   "skip_h1_title": false,
   "title_cell": "Table of Contents",
   "title_sidebar": "Contents",
   "toc_cell": false,
   "toc_position": {},
   "toc_section_display": true,
   "toc_window_display": true
  }
 },
 "nbformat": 4,
 "nbformat_minor": 4
}
